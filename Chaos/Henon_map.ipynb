{
 "cells": [
  {
   "cell_type": "code",
   "execution_count": 1,
   "metadata": {},
   "outputs": [],
   "source": [
    "from sympy import *\n",
    "import numpy as np\n",
    "import matplotlib.pyplot as plt"
   ]
  },
  {
   "cell_type": "code",
   "execution_count": 2,
   "metadata": {},
   "outputs": [],
   "source": [
    "a=Symbol('a') \n",
    "b=Symbol('b')\n",
    "x=Symbol('x')\n",
    "\n",
    "lambd1 = Symbol('lambd1') \n",
    "lambd2 = Symbol('lambd2') "
   ]
  },
  {
   "cell_type": "code",
   "execution_count": 3,
   "metadata": {},
   "outputs": [
    {
     "name": "stdout",
     "output_type": "stream",
     "text": [
      "{-a*x - sqrt(a**2*x**2 + b): 1, -a*x + sqrt(a**2*x**2 + b): 1}\n"
     ]
    }
   ],
   "source": [
    "A = Matrix([[-2*a*x, 1], [b, 0]])\n",
    "print(A.eigenvals()) "
   ]
  },
  {
   "cell_type": "code",
   "execution_count": 4,
   "metadata": {},
   "outputs": [],
   "source": [
    "lambd1 = -a*x - sqrt(a**2*x**2 + b)\n",
    "lambd2 = -a*x + sqrt(a**2*x**2 + b)"
   ]
  },
  {
   "cell_type": "markdown",
   "metadata": {},
   "source": [
    "## Unstable fixed point:"
   ]
  },
  {
   "cell_type": "code",
   "execution_count": 5,
   "metadata": {},
   "outputs": [
    {
     "data": {
      "text/latex": [
       "$\\displaystyle - a \\left(b - 1\\right) - \\frac{\\sqrt{4 a + \\left(b - 1\\right)^{2}}}{2} - \\frac{\\sqrt{4 b + \\left(2 a \\left(b - 1\\right) + \\sqrt{4 a + \\left(b - 1\\right)^{2}}\\right)^{2}}}{2}$"
      ],
      "text/plain": [
       "-a*(b - 1) - sqrt(4*a + (b - 1)**2)/2 - sqrt(4*b + (2*a*(b - 1) + sqrt(4*a + (b - 1)**2))**2)/2"
      ]
     },
     "execution_count": 5,
     "metadata": {},
     "output_type": "execute_result"
    }
   ],
   "source": [
    "x = (b-1)+ sqrt((1-b)**2+4*a)/(2*a)\n",
    "\n",
    "lambd1 = -a*x - sqrt(a**2*x**2 + b)\n",
    "lambd2 = -a*x + sqrt(a**2*x**2 + b)\n",
    "lambd1=simplify(lambd1)\n",
    "lambd2=simplify(lambd2)\n",
    "lambd1"
   ]
  },
  {
   "cell_type": "code",
   "execution_count": 6,
   "metadata": {},
   "outputs": [
    {
     "data": {
      "text/latex": [
       "$\\displaystyle - a \\left(b - 1\\right) - \\frac{\\sqrt{4 a + \\left(b - 1\\right)^{2}}}{2} + \\frac{\\sqrt{4 b + \\left(2 a \\left(b - 1\\right) + \\sqrt{4 a + \\left(b - 1\\right)^{2}}\\right)^{2}}}{2}$"
      ],
      "text/plain": [
       "-a*(b - 1) - sqrt(4*a + (b - 1)**2)/2 + sqrt(4*b + (2*a*(b - 1) + sqrt(4*a + (b - 1)**2))**2)/2"
      ]
     },
     "execution_count": 6,
     "metadata": {},
     "output_type": "execute_result"
    }
   ],
   "source": [
    "lambd2"
   ]
  },
  {
   "cell_type": "markdown",
   "metadata": {},
   "source": [
    "## stable fixed point"
   ]
  },
  {
   "cell_type": "code",
   "execution_count": 7,
   "metadata": {},
   "outputs": [
    {
     "data": {
      "text/latex": [
       "$\\displaystyle a \\left(1 - b\\right) + \\frac{\\sqrt{4 a + \\left(b - 1\\right)^{2}}}{2} - \\frac{\\sqrt{4 b + \\left(2 a \\left(1 - b\\right) + \\sqrt{4 a + \\left(b - 1\\right)^{2}}\\right)^{2}}}{2}$"
      ],
      "text/plain": [
       "a*(1 - b) + sqrt(4*a + (b - 1)**2)/2 - sqrt(4*b + (2*a*(1 - b) + sqrt(4*a + (b - 1)**2))**2)/2"
      ]
     },
     "execution_count": 7,
     "metadata": {},
     "output_type": "execute_result"
    }
   ],
   "source": [
    "x= (b-1)- sqrt((1-b)**2+4*a)/(2*a)\n",
    "lambd1 = -a*x - sqrt(a**2*x**2 + b)\n",
    "lambd2 = -a*x + sqrt(a**2*x**2 + b)\n",
    "lambd1=simplify(lambd1)\n",
    "lambd2=simplify(lambd2)\n",
    "lambd1"
   ]
  },
  {
   "cell_type": "code",
   "execution_count": 8,
   "metadata": {},
   "outputs": [
    {
     "data": {
      "text/latex": [
       "$\\displaystyle a \\left(1 - b\\right) + \\frac{\\sqrt{4 a + \\left(b - 1\\right)^{2}}}{2} + \\frac{\\sqrt{4 b + \\left(2 a \\left(1 - b\\right) + \\sqrt{4 a + \\left(b - 1\\right)^{2}}\\right)^{2}}}{2}$"
      ],
      "text/plain": [
       "a*(1 - b) + sqrt(4*a + (b - 1)**2)/2 + sqrt(4*b + (2*a*(1 - b) + sqrt(4*a + (b - 1)**2))**2)/2"
      ]
     },
     "execution_count": 8,
     "metadata": {},
     "output_type": "execute_result"
    }
   ],
   "source": [
    "lambd2"
   ]
  },
  {
   "cell_type": "markdown",
   "metadata": {},
   "source": [
    "## Henon map for fixed points\n",
    "\n",
    "Henon map:\n",
    "\n",
    "$$ x_{n+1} = 1-ax^2_n + y_n $$\n",
    "$$ y_{n+1} = bx_n $$"
   ]
  },
  {
   "cell_type": "code",
   "execution_count": 11,
   "metadata": {},
   "outputs": [
    {
     "data": {
      "image/png": "[encoded data removed]",
      "text/plain": [
       "<Figure size 432x288 with 1 Axes>"
      ]
     },
     "metadata": {
      "needs_background": "light"
     },
     "output_type": "display_data"
    }
   ],
   "source": [
    "a = 1.4\n",
    "b = 0.3\n",
    "\n",
    "N = 1000\n",
    "\n",
    "x = 1.0\n",
    "y = 1.0\n",
    "\n",
    "fig, ax = plt.subplots()\n",
    "for n in range(N):\n",
    "    x, y = (1- a*x**2 +y,  b*x)\n",
    "    ax.scatter(x,y, c='indigo', s=1)\n"
   ]
  },
  {
   "cell_type": "code",
   "execution_count": 20,
   "metadata": {},
   "outputs": [
    {
     "data": {
      "text/plain": [
       "<matplotlib.lines.Line2D at 0x201ff20f160>"
      ]
     },
     "execution_count": 20,
     "metadata": {},
     "output_type": "execute_result"
    },
    {
     "data": {
      "image/png": "[encoded data removed]",
      "text/plain": [
       "<Figure size 432x288 with 1 Axes>"
      ]
     },
     "metadata": {
      "needs_background": "light"
     },
     "output_type": "display_data"
    }
   ],
   "source": [
    "a = 0.4\n",
    "b = 0.1\n",
    "\n",
    "N = 100\n",
    "\n",
    "x0 = ((b-1)+ np.sqrt((1-b)**2+4*a))/(2*a)\n",
    "y0 = b*x0\n",
    "epsilon = 00.1\n",
    "\n",
    "\n",
    "x = x0 + epsilon\n",
    "y = y0+epsilon\n",
    "\n",
    "fig, ax = plt.subplots()\n",
    "ax.scatter(x,y, c='green', s=2)\n",
    "\n",
    "for n in range(N):\n",
    "    x, y = (1- a*x**2 +y,  b*x)\n",
    "    ax.scatter(x,y, c='indigo', s=2)\n",
    "    \n",
    "\n",
    "ax.axvline(x0, ymin = -0.5, ymax = 1.5, c='gray', alpha = 0.7)\n",
    "ax.axhline(y0, xmin = -1.25, xmax = 1.5, c='gray', alpha = 0.7)"
   ]
  },
  {
   "cell_type": "code",
   "execution_count": null,
   "metadata": {},
   "outputs": [],
   "source": []
  }
 ],
 "metadata": {
  "kernelspec": {
   "display_name": "Python 3 (ipykernel)",
   "language": "python",
   "name": "python3"
  },
  "language_info": {
   "codemirror_mode": {
    "name": "ipython",
    "version": 3
   },
   "file_extension": ".py",
   "mimetype": "text/x-python",
   "name": "python",
   "nbconvert_exporter": "python",
   "pygments_lexer": "ipython3",
   "version": "3.9.7"
  }
 },
 "nbformat": 4,
 "nbformat_minor": 4
}
